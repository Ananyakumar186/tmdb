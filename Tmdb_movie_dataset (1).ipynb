{
  "nbformat": 4,
  "nbformat_minor": 0,
  "metadata": {
    "colab": {
      "name": "Tmdb-movie-dataset.ipynb",
      "provenance": [],
      "collapsed_sections": []
    },
    "kernelspec": {
      "name": "python3",
      "display_name": "Python 3"
    }
  },
  "cells": [
    {
      "cell_type": "markdown",
      "metadata": {
        "id": "8HJ5ZRMtUAq8"
      },
      "source": [
        "Introduction:\r\n",
        "\r\n",
        "Explatory analysis on movie dataset \r\n",
        "\r\n",
        "Questions to be answered :\r\n",
        "1) Which are the movies with the third-lowest and third-highest budget?\r\n",
        "\r\n",
        "2) What is the average number of words in movie titles between the years 2000-2005?\r\n",
        "\r\n",
        "3) What is the most common Genre for Vin Diesel & Emma Watson movies?\r\n",
        "\r\n",
        "\r\n",
        "\r\n",
        "4) What is the average runtime of movies in the year 2006?"
      ]
    },
    {
      "cell_type": "code",
      "metadata": {
        "id": "GFYdht5gT_3J"
      },
      "source": [
        "#import the important libraries\r\n",
        "import pandas as pd\r\n",
        "import numpy as np\r\n",
        "import csv\r\n",
        "from datetime import datetime\r\n",
        "import matplotlib.pyplot as plt\r\n",
        "% matplotlib inline\r\n",
        "import seaborn as sns"
      ],
      "execution_count": null,
      "outputs": []
    },
    {
      "cell_type": "code",
      "metadata": {
        "id": "B7nmkykFVOJy",
        "colab": {
          "base_uri": "https://localhost:8080/",
          "height": 201
        },
        "outputId": "03eb9fd9-dd4f-4a28-f251-c4b2e0255cb9"
      },
      "source": [
        "#now import the dataset\r\n",
        "data=pd.read_csv('/content/drive/MyDrive/tmdb-movies.csv')\r\n",
        "data.head(10)"
      ],
      "execution_count": 1,
      "outputs": [
        {
          "output_type": "error",
          "ename": "NameError",
          "evalue": "ignored",
          "traceback": [
            "\u001b[0;31m---------------------------------------------------------------------------\u001b[0m",
            "\u001b[0;31mNameError\u001b[0m                                 Traceback (most recent call last)",
            "\u001b[0;32m<ipython-input-1-3e252d898200>\u001b[0m in \u001b[0;36m<module>\u001b[0;34m()\u001b[0m\n\u001b[1;32m      1\u001b[0m \u001b[0;31m#now import the dataset\u001b[0m\u001b[0;34m\u001b[0m\u001b[0;34m\u001b[0m\u001b[0;34m\u001b[0m\u001b[0m\n\u001b[0;32m----> 2\u001b[0;31m \u001b[0mdata\u001b[0m\u001b[0;34m=\u001b[0m\u001b[0mpd\u001b[0m\u001b[0;34m.\u001b[0m\u001b[0mread_csv\u001b[0m\u001b[0;34m(\u001b[0m\u001b[0;34m'/content/drive/MyDrive/tmdb-movies.csv'\u001b[0m\u001b[0;34m,\u001b[0m \u001b[0mencoding\u001b[0m\u001b[0;34m=\u001b[0m\u001b[0;34m'latin-1'\u001b[0m\u001b[0;34m)\u001b[0m\u001b[0;34m\u001b[0m\u001b[0;34m\u001b[0m\u001b[0m\n\u001b[0m\u001b[1;32m      3\u001b[0m \u001b[0mdata\u001b[0m\u001b[0;34m.\u001b[0m\u001b[0mhead\u001b[0m\u001b[0;34m(\u001b[0m\u001b[0;36m10\u001b[0m\u001b[0;34m)\u001b[0m\u001b[0;34m\u001b[0m\u001b[0;34m\u001b[0m\u001b[0m\n",
            "\u001b[0;31mNameError\u001b[0m: name 'pd' is not defined"
          ]
        }
      ]
    },
    {
      "cell_type": "markdown",
      "metadata": {
        "id": "5nejMMPzWNf1"
      },
      "source": [
        "Obsevations from the data set\r\n",
        "1.) No unit of currency is mentioned in the dataset. So for my analysis I will take it as dollar as it is the most used international currency.\r\n",
        "\r\n",
        "2.) vote_count is different for all the movies, so we cannot directly conculed the popularity of the movies based on the average vote count\r\n",
        "\r\n",
        "Data Cleaning (Removing the unused information from the dataset )\r\n",
        "Important observation regarding this process\r\n",
        "\r\n",
        "We need to remove unused column such as id, imdb_id, vote_count, production_company, keywords, homepage etc.\r\n",
        "\r\n",
        "Removing the duplicacy in the rows(if any).\r\n",
        "\r\n",
        "Some movies in the database have zero budget or zero revenue, that is there value has not been recorded so we will be discarding such entries\r\n",
        "\r\n",
        "Changing release date column into date format.\r\n",
        "\r\n",
        "Replacing zero with NAN in runtime column.\r\n",
        "\r\n",
        "Changing format of budget and revenue column.\r\n",
        "\r\n",
        "1. Removing Unused columns\r\n",
        "\r\n",
        "Columns that we need to delete are - id, imdb_id, popularity, budget_adj, revenue_adj, homepage, keywords, overview, production_companies, vote_count and vote_average."
      ]
    },
    {
      "cell_type": "code",
      "metadata": {
        "id": "Ivr0MxzgVhNf",
        "colab": {
          "base_uri": "https://localhost:8080/",
          "height": 930
        },
        "outputId": "498d9ac0-497d-439b-f7c3-8236780ad0fb"
      },
      "source": [
        "#creating a list of columns to delete \r\n",
        "del_col=['id','imdb_id','popularity','budget_adj','revenue_adj','homepage','keywords','overview','production_companies','vote_average']\r\n",
        "\r\n",
        "#delete the columns\r\n",
        "data=data.drop(del_col,1)\r\n",
        "\r\n",
        "#review the dataset\r\n",
        "data.head(10)\r\n"
      ],
      "execution_count": null,
      "outputs": [
        {
          "output_type": "execute_result",
          "data": {
            "text/html": [
              "<div>\n",
              "<style scoped>\n",
              "    .dataframe tbody tr th:only-of-type {\n",
              "        vertical-align: middle;\n",
              "    }\n",
              "\n",
              "    .dataframe tbody tr th {\n",
              "        vertical-align: top;\n",
              "    }\n",
              "\n",
              "    .dataframe thead th {\n",
              "        text-align: right;\n",
              "    }\n",
              "</style>\n",
              "<table border=\"1\" class=\"dataframe\">\n",
              "  <thead>\n",
              "    <tr style=\"text-align: right;\">\n",
              "      <th></th>\n",
              "      <th>budget</th>\n",
              "      <th>revenue</th>\n",
              "      <th>original_title</th>\n",
              "      <th>cast</th>\n",
              "      <th>director</th>\n",
              "      <th>tagline</th>\n",
              "      <th>runtime</th>\n",
              "      <th>genres</th>\n",
              "      <th>release_date</th>\n",
              "      <th>vote_count</th>\n",
              "      <th>release_year</th>\n",
              "    </tr>\n",
              "  </thead>\n",
              "  <tbody>\n",
              "    <tr>\n",
              "      <th>0</th>\n",
              "      <td>0</td>\n",
              "      <td>29355203</td>\n",
              "      <td>Mr. Holmes</td>\n",
              "      <td>Ian McKellen|Milo Parker|Laura Linney|Hattie M...</td>\n",
              "      <td>Bill Condon</td>\n",
              "      <td>The man behind the myth</td>\n",
              "      <td>103</td>\n",
              "      <td>Mystery|Drama</td>\n",
              "      <td>6/19/2015</td>\n",
              "      <td>425</td>\n",
              "      <td>2015</td>\n",
              "    </tr>\n",
              "    <tr>\n",
              "      <th>1</th>\n",
              "      <td>0</td>\n",
              "      <td>22354572</td>\n",
              "      <td>Solace</td>\n",
              "      <td>Abbie Cornish|Jeffrey Dean Morgan|Colin Farrel...</td>\n",
              "      <td>Afonso Poyart</td>\n",
              "      <td>A serial killer who can see your future, a psy...</td>\n",
              "      <td>101</td>\n",
              "      <td>Crime|Drama|Mystery</td>\n",
              "      <td>9/3/2015</td>\n",
              "      <td>474</td>\n",
              "      <td>2015</td>\n",
              "    </tr>\n",
              "    <tr>\n",
              "      <th>2</th>\n",
              "      <td>0</td>\n",
              "      <td>45895</td>\n",
              "      <td>Beyond the Reach</td>\n",
              "      <td>Michael Douglas|Jeremy Irvine|Hanna Mangan Law...</td>\n",
              "      <td>Jean-Baptiste LÃ©onetti</td>\n",
              "      <td>NaN</td>\n",
              "      <td>95</td>\n",
              "      <td>Thriller</td>\n",
              "      <td>4/17/2015</td>\n",
              "      <td>81</td>\n",
              "      <td>2015</td>\n",
              "    </tr>\n",
              "    <tr>\n",
              "      <th>3</th>\n",
              "      <td>0</td>\n",
              "      <td>0</td>\n",
              "      <td>Mythica: The Darkspore</td>\n",
              "      <td>Melanie Stone|Kevin Sorbo|Adam Johnson|Jake St...</td>\n",
              "      <td>Anne K. Black</td>\n",
              "      <td>NaN</td>\n",
              "      <td>108</td>\n",
              "      <td>Action|Adventure|Fantasy</td>\n",
              "      <td>6/24/2015</td>\n",
              "      <td>27</td>\n",
              "      <td>2015</td>\n",
              "    </tr>\n",
              "    <tr>\n",
              "      <th>4</th>\n",
              "      <td>0</td>\n",
              "      <td>0</td>\n",
              "      <td>Me and Earl and the Dying Girl</td>\n",
              "      <td>Thomas Mann|RJ Cyler|Olivia Cooke|Connie Britt...</td>\n",
              "      <td>Alfonso Gomez-Rejon</td>\n",
              "      <td>A Little Friendship Never Killed Anyone.</td>\n",
              "      <td>105</td>\n",
              "      <td>Comedy|Drama</td>\n",
              "      <td>6/12/2015</td>\n",
              "      <td>569</td>\n",
              "      <td>2015</td>\n",
              "    </tr>\n",
              "    <tr>\n",
              "      <th>5</th>\n",
              "      <td>0</td>\n",
              "      <td>2000000</td>\n",
              "      <td>Equals</td>\n",
              "      <td>Kristen Stewart|Nicholas Hoult|Guy Pearce|Jack...</td>\n",
              "      <td>Drake Doremus</td>\n",
              "      <td>Find your equal.</td>\n",
              "      <td>101</td>\n",
              "      <td>Drama|Romance|Science Fiction</td>\n",
              "      <td>9/4/2015</td>\n",
              "      <td>135</td>\n",
              "      <td>2015</td>\n",
              "    </tr>\n",
              "    <tr>\n",
              "      <th>6</th>\n",
              "      <td>0</td>\n",
              "      <td>0</td>\n",
              "      <td>Mythica: The Necromancer</td>\n",
              "      <td>Melanie Stone|Adam Johnson|Kevin Sorbo|Nicola ...</td>\n",
              "      <td>A. Todd Smith</td>\n",
              "      <td>NaN</td>\n",
              "      <td>0</td>\n",
              "      <td>Fantasy|Action|Adventure</td>\n",
              "      <td>12/19/2015</td>\n",
              "      <td>11</td>\n",
              "      <td>2015</td>\n",
              "    </tr>\n",
              "    <tr>\n",
              "      <th>7</th>\n",
              "      <td>0</td>\n",
              "      <td>233755553</td>\n",
              "      <td>Alvin and the Chipmunks: The Road Chip</td>\n",
              "      <td>Jason Lee|Justin Long|Bella Thorne|Matthew Gra...</td>\n",
              "      <td>Walt Becker</td>\n",
              "      <td>Fast &amp; furry-ous</td>\n",
              "      <td>92</td>\n",
              "      <td>Adventure|Animation|Comedy|Family</td>\n",
              "      <td>12/17/2015</td>\n",
              "      <td>278</td>\n",
              "      <td>2015</td>\n",
              "    </tr>\n",
              "    <tr>\n",
              "      <th>8</th>\n",
              "      <td>0</td>\n",
              "      <td>0</td>\n",
              "      <td>Frozen Fever</td>\n",
              "      <td>Kristen Bell|Idina Menzel|Jonathan Groff|Josh ...</td>\n",
              "      <td>Chris Buck|Jennifer Lee</td>\n",
              "      <td>NaN</td>\n",
              "      <td>8</td>\n",
              "      <td>Adventure|Animation|Family</td>\n",
              "      <td>3/9/2015</td>\n",
              "      <td>475</td>\n",
              "      <td>2015</td>\n",
              "    </tr>\n",
              "    <tr>\n",
              "      <th>9</th>\n",
              "      <td>0</td>\n",
              "      <td>0</td>\n",
              "      <td>High-Rise</td>\n",
              "      <td>Tom Hiddleston|Sienna Miller|Jeremy Irons|Luke...</td>\n",
              "      <td>Ben Wheatley</td>\n",
              "      <td>Leave the real world behind</td>\n",
              "      <td>119</td>\n",
              "      <td>Action|Drama|Science Fiction</td>\n",
              "      <td>9/26/2015</td>\n",
              "      <td>161</td>\n",
              "      <td>2015</td>\n",
              "    </tr>\n",
              "  </tbody>\n",
              "</table>\n",
              "</div>"
            ],
            "text/plain": [
              "   budget    revenue  ... vote_count release_year\n",
              "0       0   29355203  ...        425         2015\n",
              "1       0   22354572  ...        474         2015\n",
              "2       0      45895  ...         81         2015\n",
              "3       0          0  ...         27         2015\n",
              "4       0          0  ...        569         2015\n",
              "5       0    2000000  ...        135         2015\n",
              "6       0          0  ...         11         2015\n",
              "7       0  233755553  ...        278         2015\n",
              "8       0          0  ...        475         2015\n",
              "9       0          0  ...        161         2015\n",
              "\n",
              "[10 rows x 11 columns]"
            ]
          },
          "metadata": {
            "tags": []
          },
          "execution_count": 3
        }
      ]
    },
    {
      "cell_type": "code",
      "metadata": {
        "colab": {
          "base_uri": "https://localhost:8080/"
        },
        "id": "6GB7ygNeXYu2",
        "outputId": "04e74ff1-945b-41f5-f9a2-f1ea2edfea03"
      },
      "source": [
        "#removing the duplicacy in the rows \r\n",
        "rows,col=data.shape\r\n",
        "#we need to reduce the count of rows by 1 as there is a header row also\r\n",
        "print('the number of rows are {} and the columns {} in the total entries of movies'.format(rows-1,col))"
      ],
      "execution_count": null,
      "outputs": [
        {
          "output_type": "stream",
          "text": [
            "the number of rows are 10865 and the columns 11 in the total entries of movies\n"
          ],
          "name": "stdout"
        }
      ]
    },
    {
      "cell_type": "code",
      "metadata": {
        "colab": {
          "base_uri": "https://localhost:8080/"
        },
        "id": "FVuFVq4DYDys",
        "outputId": "164defe9-b4b4-449b-ba10-dfa18d5bf70b"
      },
      "source": [
        "#now to see if there are null values  and also data type using info\r\n",
        "data.info()"
      ],
      "execution_count": null,
      "outputs": [
        {
          "output_type": "stream",
          "text": [
            "<class 'pandas.core.frame.DataFrame'>\n",
            "RangeIndex: 10866 entries, 0 to 10865\n",
            "Data columns (total 11 columns):\n",
            " #   Column          Non-Null Count  Dtype \n",
            "---  ------          --------------  ----- \n",
            " 0   budget          10866 non-null  int64 \n",
            " 1   revenue         10866 non-null  int64 \n",
            " 2   original_title  10866 non-null  object\n",
            " 3   cast            10790 non-null  object\n",
            " 4   director        10822 non-null  object\n",
            " 5   tagline         8042 non-null   object\n",
            " 6   runtime         10866 non-null  int64 \n",
            " 7   genres          10843 non-null  object\n",
            " 8   release_date    10866 non-null  object\n",
            " 9   vote_count      10866 non-null  int64 \n",
            " 10  release_year    10866 non-null  int64 \n",
            "dtypes: int64(5), object(6)\n",
            "memory usage: 933.9+ KB\n"
          ],
          "name": "stdout"
        }
      ]
    },
    {
      "cell_type": "code",
      "metadata": {
        "colab": {
          "base_uri": "https://localhost:8080/"
        },
        "id": "ySuSOWOYYS-6",
        "outputId": "fe34ee35-014a-4912-c5aa-fdaf7ef0b0f7"
      },
      "source": [
        "#removing the duplicates in the dataset\r\n",
        "data.drop_duplicates(keep='first',inplace=True)\r\n",
        "#review the dataset\r\n",
        "rows , col = data.shape\r\n",
        "print('the number of rows are {} and the columns {} in the total entries of movies'.format(rows-1,col))"
      ],
      "execution_count": null,
      "outputs": [
        {
          "output_type": "stream",
          "text": [
            "the number of rows are 10864 and the columns 11 in the total entries of movies\n"
          ],
          "name": "stdout"
        }
      ]
    },
    {
      "cell_type": "code",
      "metadata": {
        "colab": {
          "base_uri": "https://localhost:8080/"
        },
        "id": "sdjjJeKPY2zQ",
        "outputId": "cdd9d8fe-6564-4cbb-b24c-8f0d050277bf"
      },
      "source": [
        "#creating the revenue and budget column list separately\r\n",
        "reb_bud=['budget','revenue']\r\n",
        "\r\n",
        "#replace the 0's with NAN\r\n",
        "data[reb_bud]=data[reb_bud].replace(0,np.NAN)\r\n",
        "\r\n",
        "#removing the NAN values in the columns\r\n",
        "data.dropna(subset=reb_bud,inplace=True)\r\n",
        "\r\n",
        "rows , col = data.shape\r\n",
        "print('the number of rows are {} and the columns {} in the total entries of movies'.format(rows-1,col))"
      ],
      "execution_count": null,
      "outputs": [
        {
          "output_type": "stream",
          "text": [
            "the number of rows are 3853 and the columns 11 in the total entries of movies\n"
          ],
          "name": "stdout"
        }
      ]
    },
    {
      "cell_type": "code",
      "metadata": {
        "colab": {
          "base_uri": "https://localhost:8080/",
          "height": 462
        },
        "id": "XU5Tn5P5ad2L",
        "outputId": "dcb765a0-88a0-41dc-943a-9c5d068e4cb8"
      },
      "source": [
        "#now changing the release date to the standard date format\r\n",
        "data.release_date=pd.to_datetime(data['release_date'])\r\n",
        "data.head(5)"
      ],
      "execution_count": null,
      "outputs": [
        {
          "output_type": "execute_result",
          "data": {
            "text/html": [
              "<div>\n",
              "<style scoped>\n",
              "    .dataframe tbody tr th:only-of-type {\n",
              "        vertical-align: middle;\n",
              "    }\n",
              "\n",
              "    .dataframe tbody tr th {\n",
              "        vertical-align: top;\n",
              "    }\n",
              "\n",
              "    .dataframe thead th {\n",
              "        text-align: right;\n",
              "    }\n",
              "</style>\n",
              "<table border=\"1\" class=\"dataframe\">\n",
              "  <thead>\n",
              "    <tr style=\"text-align: right;\">\n",
              "      <th></th>\n",
              "      <th>budget</th>\n",
              "      <th>revenue</th>\n",
              "      <th>original_title</th>\n",
              "      <th>cast</th>\n",
              "      <th>director</th>\n",
              "      <th>tagline</th>\n",
              "      <th>runtime</th>\n",
              "      <th>genres</th>\n",
              "      <th>release_date</th>\n",
              "      <th>vote_count</th>\n",
              "      <th>release_year</th>\n",
              "    </tr>\n",
              "  </thead>\n",
              "  <tbody>\n",
              "    <tr>\n",
              "      <th>5697</th>\n",
              "      <td>1.0</td>\n",
              "      <td>100.0</td>\n",
              "      <td>Lost &amp; Found</td>\n",
              "      <td>David Spade|Sophie Marceau|Ever Carradine|Step...</td>\n",
              "      <td>Jeff Pollack</td>\n",
              "      <td>A comedy about a guy who would do anything to ...</td>\n",
              "      <td>95</td>\n",
              "      <td>Comedy|Romance</td>\n",
              "      <td>1999-04-23</td>\n",
              "      <td>14</td>\n",
              "      <td>1999</td>\n",
              "    </tr>\n",
              "    <tr>\n",
              "      <th>5699</th>\n",
              "      <td>1.0</td>\n",
              "      <td>1378.0</td>\n",
              "      <td>Love, Wedding, Marriage</td>\n",
              "      <td>Mandy Moore|Kellan Lutz|Jessica Szohr|Autumn F...</td>\n",
              "      <td>Dermot Mulroney</td>\n",
              "      <td>Here comes the ride.</td>\n",
              "      <td>90</td>\n",
              "      <td>Comedy|Romance</td>\n",
              "      <td>2011-06-03</td>\n",
              "      <td>55</td>\n",
              "      <td>2011</td>\n",
              "    </tr>\n",
              "    <tr>\n",
              "      <th>5700</th>\n",
              "      <td>2.0</td>\n",
              "      <td>16.0</td>\n",
              "      <td>Death Wish 2</td>\n",
              "      <td>Charles Bronson|Jill Ireland|Vincent Gardenia|...</td>\n",
              "      <td>Michael Winner</td>\n",
              "      <td>First His Wife. Now His Daughter. It's Time To...</td>\n",
              "      <td>88</td>\n",
              "      <td>Action|Crime|Thriller</td>\n",
              "      <td>1982-02-20</td>\n",
              "      <td>27</td>\n",
              "      <td>1982</td>\n",
              "    </tr>\n",
              "    <tr>\n",
              "      <th>5701</th>\n",
              "      <td>3.0</td>\n",
              "      <td>43.0</td>\n",
              "      <td>Boy</td>\n",
              "      <td>James Rolleston|Craig Hall|Taika Waititi|Te Ah...</td>\n",
              "      <td>Taika Waititi</td>\n",
              "      <td>Summer, Girls, Gangs, Drugs ... its not easy b...</td>\n",
              "      <td>87</td>\n",
              "      <td>Drama|Comedy</td>\n",
              "      <td>2010-02-14</td>\n",
              "      <td>26</td>\n",
              "      <td>2010</td>\n",
              "    </tr>\n",
              "    <tr>\n",
              "      <th>5703</th>\n",
              "      <td>3.0</td>\n",
              "      <td>16.0</td>\n",
              "      <td>Tales from the Darkside: The Movie</td>\n",
              "      <td>Rae Dawn Chong|Christian Slater|Deborah Harry|...</td>\n",
              "      <td>John Harrison</td>\n",
              "      <td>From the depths of four twisted minds.</td>\n",
              "      <td>93</td>\n",
              "      <td>Fantasy|Horror|Comedy</td>\n",
              "      <td>1990-05-03</td>\n",
              "      <td>37</td>\n",
              "      <td>1990</td>\n",
              "    </tr>\n",
              "  </tbody>\n",
              "</table>\n",
              "</div>"
            ],
            "text/plain": [
              "      budget  revenue  ... vote_count release_year\n",
              "5697     1.0    100.0  ...         14         1999\n",
              "5699     1.0   1378.0  ...         55         2011\n",
              "5700     2.0     16.0  ...         27         1982\n",
              "5701     3.0     43.0  ...         26         2010\n",
              "5703     3.0     16.0  ...         37         1990\n",
              "\n",
              "[5 rows x 11 columns]"
            ]
          },
          "metadata": {
            "tags": []
          },
          "execution_count": 8
        }
      ]
    },
    {
      "cell_type": "code",
      "metadata": {
        "id": "L2ffPbI5bHwV"
      },
      "source": [
        "#replacing the 0's to NAN in runtime column\r\n",
        "data['runtime']=data['runtime'].replace(0,np.NAN)"
      ],
      "execution_count": null,
      "outputs": []
    },
    {
      "cell_type": "markdown",
      "metadata": {
        "id": "EKjZ4-9oq5_9"
      },
      "source": [
        "======================================================="
      ]
    },
    {
      "cell_type": "markdown",
      "metadata": {
        "id": "WYD3nesAb9Uk"
      },
      "source": [
        "Explatory Data Analysis\r\n",
        "\r\n",
        "1.Which are the movies with the third-lowest and third-highest budget?"
      ]
    },
    {
      "cell_type": "code",
      "metadata": {
        "colab": {
          "base_uri": "https://localhost:8080/",
          "height": 262
        },
        "id": "ivkCVL-koN1H",
        "outputId": "6e7f2ee4-8930-4fef-e756-10e9b5d05608"
      },
      "source": [
        "#By sorting the values in the excel in ascending form by budget,\r\n",
        "data.head(3)"
      ],
      "execution_count": null,
      "outputs": [
        {
          "output_type": "execute_result",
          "data": {
            "text/html": [
              "<div>\n",
              "<style scoped>\n",
              "    .dataframe tbody tr th:only-of-type {\n",
              "        vertical-align: middle;\n",
              "    }\n",
              "\n",
              "    .dataframe tbody tr th {\n",
              "        vertical-align: top;\n",
              "    }\n",
              "\n",
              "    .dataframe thead th {\n",
              "        text-align: right;\n",
              "    }\n",
              "</style>\n",
              "<table border=\"1\" class=\"dataframe\">\n",
              "  <thead>\n",
              "    <tr style=\"text-align: right;\">\n",
              "      <th></th>\n",
              "      <th>budget</th>\n",
              "      <th>revenue</th>\n",
              "      <th>original_title</th>\n",
              "      <th>cast</th>\n",
              "      <th>director</th>\n",
              "      <th>tagline</th>\n",
              "      <th>runtime</th>\n",
              "      <th>genres</th>\n",
              "      <th>release_date</th>\n",
              "      <th>vote_count</th>\n",
              "      <th>release_year</th>\n",
              "    </tr>\n",
              "  </thead>\n",
              "  <tbody>\n",
              "    <tr>\n",
              "      <th>5697</th>\n",
              "      <td>1.0</td>\n",
              "      <td>100.0</td>\n",
              "      <td>Lost &amp; Found</td>\n",
              "      <td>David Spade|Sophie Marceau|Ever Carradine|Step...</td>\n",
              "      <td>Jeff Pollack</td>\n",
              "      <td>A comedy about a guy who would do anything to ...</td>\n",
              "      <td>95</td>\n",
              "      <td>Comedy|Romance</td>\n",
              "      <td>1999-04-23</td>\n",
              "      <td>14</td>\n",
              "      <td>1999</td>\n",
              "    </tr>\n",
              "    <tr>\n",
              "      <th>5699</th>\n",
              "      <td>1.0</td>\n",
              "      <td>1378.0</td>\n",
              "      <td>Love, Wedding, Marriage</td>\n",
              "      <td>Mandy Moore|Kellan Lutz|Jessica Szohr|Autumn F...</td>\n",
              "      <td>Dermot Mulroney</td>\n",
              "      <td>Here comes the ride.</td>\n",
              "      <td>90</td>\n",
              "      <td>Comedy|Romance</td>\n",
              "      <td>2011-06-03</td>\n",
              "      <td>55</td>\n",
              "      <td>2011</td>\n",
              "    </tr>\n",
              "    <tr>\n",
              "      <th>5700</th>\n",
              "      <td>2.0</td>\n",
              "      <td>16.0</td>\n",
              "      <td>Death Wish 2</td>\n",
              "      <td>Charles Bronson|Jill Ireland|Vincent Gardenia|...</td>\n",
              "      <td>Michael Winner</td>\n",
              "      <td>First His Wife. Now His Daughter. It's Time To...</td>\n",
              "      <td>88</td>\n",
              "      <td>Action|Crime|Thriller</td>\n",
              "      <td>1982-02-20</td>\n",
              "      <td>27</td>\n",
              "      <td>1982</td>\n",
              "    </tr>\n",
              "  </tbody>\n",
              "</table>\n",
              "</div>"
            ],
            "text/plain": [
              "      budget  revenue  ... vote_count release_year\n",
              "5697     1.0    100.0  ...         14         1999\n",
              "5699     1.0   1378.0  ...         55         2011\n",
              "5700     2.0     16.0  ...         27         1982\n",
              "\n",
              "[3 rows x 11 columns]"
            ]
          },
          "metadata": {
            "tags": []
          },
          "execution_count": 10
        }
      ]
    },
    {
      "cell_type": "code",
      "metadata": {
        "colab": {
          "base_uri": "https://localhost:8080/",
          "height": 351
        },
        "id": "bJm70ymCo8Jv",
        "outputId": "3ed45233-9bb5-4ddc-83ec-03e816f4c7ae"
      },
      "source": [
        "#here I showed the lowest budgets by viewing the tail\r\n",
        "data.tail(3)"
      ],
      "execution_count": null,
      "outputs": [
        {
          "output_type": "execute_result",
          "data": {
            "text/html": [
              "<div>\n",
              "<style scoped>\n",
              "    .dataframe tbody tr th:only-of-type {\n",
              "        vertical-align: middle;\n",
              "    }\n",
              "\n",
              "    .dataframe tbody tr th {\n",
              "        vertical-align: top;\n",
              "    }\n",
              "\n",
              "    .dataframe thead th {\n",
              "        text-align: right;\n",
              "    }\n",
              "</style>\n",
              "<table border=\"1\" class=\"dataframe\">\n",
              "  <thead>\n",
              "    <tr style=\"text-align: right;\">\n",
              "      <th></th>\n",
              "      <th>budget</th>\n",
              "      <th>revenue</th>\n",
              "      <th>original_title</th>\n",
              "      <th>cast</th>\n",
              "      <th>director</th>\n",
              "      <th>tagline</th>\n",
              "      <th>runtime</th>\n",
              "      <th>genres</th>\n",
              "      <th>release_date</th>\n",
              "      <th>vote_count</th>\n",
              "      <th>release_year</th>\n",
              "    </tr>\n",
              "  </thead>\n",
              "  <tbody>\n",
              "    <tr>\n",
              "      <th>10863</th>\n",
              "      <td>300000000.0</td>\n",
              "      <td>9.610000e+08</td>\n",
              "      <td>Pirates of the Caribbean: At World's End</td>\n",
              "      <td>Johnny Depp|Orlando Bloom|Keira Knightley|Geof...</td>\n",
              "      <td>Gore Verbinski</td>\n",
              "      <td>At the end of the world, the adventure begins.</td>\n",
              "      <td>169</td>\n",
              "      <td>Adventure|Fantasy|Action</td>\n",
              "      <td>2007-05-19</td>\n",
              "      <td>2626</td>\n",
              "      <td>2007</td>\n",
              "    </tr>\n",
              "    <tr>\n",
              "      <th>10864</th>\n",
              "      <td>380000000.0</td>\n",
              "      <td>1.021683e+09</td>\n",
              "      <td>Pirates of the Caribbean: On Stranger Tides</td>\n",
              "      <td>Johnny Depp|PenÃ©lope Cruz|Geoffrey Rush|Ian M...</td>\n",
              "      <td>Rob Marshall</td>\n",
              "      <td>Live Forever Or Die Trying.</td>\n",
              "      <td>136</td>\n",
              "      <td>Adventure|Action|Fantasy</td>\n",
              "      <td>2011-05-11</td>\n",
              "      <td>3180</td>\n",
              "      <td>2011</td>\n",
              "    </tr>\n",
              "    <tr>\n",
              "      <th>10865</th>\n",
              "      <td>425000000.0</td>\n",
              "      <td>1.108757e+07</td>\n",
              "      <td>The Warrior's Way</td>\n",
              "      <td>Kate Bosworth|Jang Dong-gun|Geoffrey Rush|Dann...</td>\n",
              "      <td>Sngmoo Lee</td>\n",
              "      <td>Assassin. Hero. Legend.</td>\n",
              "      <td>100</td>\n",
              "      <td>Adventure|Fantasy|Action|Western|Thriller</td>\n",
              "      <td>2010-12-02</td>\n",
              "      <td>74</td>\n",
              "      <td>2010</td>\n",
              "    </tr>\n",
              "  </tbody>\n",
              "</table>\n",
              "</div>"
            ],
            "text/plain": [
              "            budget       revenue  ... vote_count release_year\n",
              "10863  300000000.0  9.610000e+08  ...       2626         2007\n",
              "10864  380000000.0  1.021683e+09  ...       3180         2011\n",
              "10865  425000000.0  1.108757e+07  ...         74         2010\n",
              "\n",
              "[3 rows x 11 columns]"
            ]
          },
          "metadata": {
            "tags": []
          },
          "execution_count": 11
        }
      ]
    },
    {
      "cell_type": "markdown",
      "metadata": {
        "id": "RpFlVGWlpqHl"
      },
      "source": [
        "As you can see in the results the third highest budget is \"The Pirates of the Carribean: At World's end\"\r\n",
        "\r\n",
        "The third lowest budget is \"Death Wish 2\""
      ]
    },
    {
      "cell_type": "markdown",
      "metadata": {
        "id": "C9PdkHzJlNFP"
      },
      "source": [
        " 2) What is the average number of words in movie titles between the years 2000-2005?"
      ]
    },
    {
      "cell_type": "code",
      "metadata": {
        "id": "FLGGu37usyGA",
        "colab": {
          "base_uri": "https://localhost:8080/"
        },
        "outputId": "291b60d8-01ff-41db-ab64-617a3a70f19f"
      },
      "source": [
        "#sort the data by release_year and slice the data into a list \r\n",
        "data.sort_values(by='release_year', ascending=True , ignore_index=True, inplace=True)\r\n",
        "ori=data['original_title'][1354:2138]\r\n",
        "#from collections import Counter\r\n",
        "\r\n",
        "#create a function that splits the movie titles into the words and count the number of words\r\n",
        "def convert(lst):\r\n",
        "   avg=' '.join(lst).split()\r\n",
        "   avg=len(avg)\r\n",
        "   print(\"The average words of the movie titles is\")\r\n",
        "   print(avg)\r\n",
        "rele=data['release_year']\r\n",
        "\r\n",
        "convert(ori)\r\n",
        "\r\n"
      ],
      "execution_count": null,
      "outputs": [
        {
          "output_type": "stream",
          "text": [
            "The average words of the movie titles is\n",
            "2107\n"
          ],
          "name": "stdout"
        }
      ]
    },
    {
      "cell_type": "markdown",
      "metadata": {
        "id": "8-YjZamAnq-3"
      },
      "source": [
        "3) Which are the movies with the most and least earned revenue?"
      ]
    },
    {
      "cell_type": "code",
      "metadata": {
        "colab": {
          "base_uri": "https://localhost:8080/",
          "height": 386
        },
        "id": "zwUOsgEfnv1L",
        "outputId": "4d66be3e-cdc5-431b-d969-0f1fcfc1dfd9"
      },
      "source": [
        "#now writing the function for calculating the budget\r\n",
        "import pprint\r\n",
        "def calculate(column):\r\n",
        "  #for the highest earned budget\r\n",
        "  high=data[column].idxmax()\r\n",
        "  high_details=pd.DataFrame(data.loc[high])\r\n",
        "\r\n",
        "  #for the lowest earned budget\r\n",
        "  low=data[column].idxmin()\r\n",
        "  low_details=pd.DataFrame(data.loc[low])\r\n",
        "\r\n",
        "  #collecting the data in one place\r\n",
        "  info=pd.concat([high_details,low_details],axis=1)\r\n",
        "\r\n",
        "  return info\r\n",
        "\r\n",
        "#call the function\r\n",
        "calculate('revenue')  "
      ],
      "execution_count": null,
      "outputs": [
        {
          "output_type": "execute_result",
          "data": {
            "text/html": [
              "<div>\n",
              "<style scoped>\n",
              "    .dataframe tbody tr th:only-of-type {\n",
              "        vertical-align: middle;\n",
              "    }\n",
              "\n",
              "    .dataframe tbody tr th {\n",
              "        vertical-align: top;\n",
              "    }\n",
              "\n",
              "    .dataframe thead th {\n",
              "        text-align: right;\n",
              "    }\n",
              "</style>\n",
              "<table border=\"1\" class=\"dataframe\">\n",
              "  <thead>\n",
              "    <tr style=\"text-align: right;\">\n",
              "      <th></th>\n",
              "      <th>2665</th>\n",
              "      <th>920</th>\n",
              "    </tr>\n",
              "  </thead>\n",
              "  <tbody>\n",
              "    <tr>\n",
              "      <th>budget</th>\n",
              "      <td>2.37e+08</td>\n",
              "      <td>6e+06</td>\n",
              "    </tr>\n",
              "    <tr>\n",
              "      <th>revenue</th>\n",
              "      <td>2.78151e+09</td>\n",
              "      <td>2</td>\n",
              "    </tr>\n",
              "    <tr>\n",
              "      <th>original_title</th>\n",
              "      <td>Avatar</td>\n",
              "      <td>Mallrats</td>\n",
              "    </tr>\n",
              "    <tr>\n",
              "      <th>cast</th>\n",
              "      <td>Sam Worthington|Zoe Saldana|Sigourney Weaver|S...</td>\n",
              "      <td>Jason Lee|Jeremy London|Shannen Doherty|Claire...</td>\n",
              "    </tr>\n",
              "    <tr>\n",
              "      <th>director</th>\n",
              "      <td>James Cameron</td>\n",
              "      <td>Kevin Smith</td>\n",
              "    </tr>\n",
              "    <tr>\n",
              "      <th>tagline</th>\n",
              "      <td>Enter the World of Pandora.</td>\n",
              "      <td>They're not there to shop. They're not there t...</td>\n",
              "    </tr>\n",
              "    <tr>\n",
              "      <th>runtime</th>\n",
              "      <td>162</td>\n",
              "      <td>94</td>\n",
              "    </tr>\n",
              "    <tr>\n",
              "      <th>genres</th>\n",
              "      <td>Action|Adventure|Fantasy|Science Fiction</td>\n",
              "      <td>Romance|Comedy</td>\n",
              "    </tr>\n",
              "    <tr>\n",
              "      <th>release_date</th>\n",
              "      <td>2009-12-10 00:00:00</td>\n",
              "      <td>1995-10-20 00:00:00</td>\n",
              "    </tr>\n",
              "    <tr>\n",
              "      <th>vote_count</th>\n",
              "      <td>8458</td>\n",
              "      <td>201</td>\n",
              "    </tr>\n",
              "    <tr>\n",
              "      <th>release_year</th>\n",
              "      <td>2009</td>\n",
              "      <td>1995</td>\n",
              "    </tr>\n",
              "  </tbody>\n",
              "</table>\n",
              "</div>"
            ],
            "text/plain": [
              "                                                             2665                                               920 \n",
              "budget                                                   2.37e+08                                              6e+06\n",
              "revenue                                               2.78151e+09                                                  2\n",
              "original_title                                             Avatar                                           Mallrats\n",
              "cast            Sam Worthington|Zoe Saldana|Sigourney Weaver|S...  Jason Lee|Jeremy London|Shannen Doherty|Claire...\n",
              "director                                            James Cameron                                        Kevin Smith\n",
              "tagline                               Enter the World of Pandora.  They're not there to shop. They're not there t...\n",
              "runtime                                                       162                                                 94\n",
              "genres                   Action|Adventure|Fantasy|Science Fiction                                     Romance|Comedy\n",
              "release_date                                  2009-12-10 00:00:00                                1995-10-20 00:00:00\n",
              "vote_count                                                   8458                                                201\n",
              "release_year                                                 2009                                               1995"
            ]
          },
          "metadata": {
            "tags": []
          },
          "execution_count": 34
        }
      ]
    },
    {
      "cell_type": "markdown",
      "metadata": {
        "id": "xuhx8F8ZtR02"
      },
      "source": [
        "As you can see the movie title \"Avatar\" is the most revenue by 2.37e+08 and least is\r\n",
        "\"Shattered Glass\" by 6e+06"
      ]
    },
    {
      "cell_type": "markdown",
      "metadata": {
        "id": "L1T9EsWfnrPD"
      },
      "source": [
        "\r\n",
        "4) What is the average runtime of movies in the year 2006?"
      ]
    },
    {
      "cell_type": "code",
      "metadata": {
        "colab": {
          "base_uri": "https://localhost:8080/",
          "height": 299
        },
        "id": "cZ2g0slKn4GD",
        "outputId": "e7ce72dd-1a85-4dfb-8452-7bfdeed455e3"
      },
      "source": [
        "data.groupby('release_year').mean()['runtime'].plot(xticks = np.arange(1960,2016,4))\r\n",
        "\r\n",
        "#setup the figure size.\r\n",
        "sns.set(rc={'figure.figsize':(10,5)})\r\n",
        "\r\n",
        "#setup the title of the figure\r\n",
        "plt.title(\"Runtime Vs Year\",fontsize = 14)\r\n",
        "\r\n",
        "#setup the x-label and y-label of the plot.\r\n",
        "plt.xlabel('Year',fontsize = 13)\r\n",
        "plt.ylabel('Runtime',fontsize = 13)\r\n",
        "sns.set_style(\"whitegrid\")"
      ],
      "execution_count": null,
      "outputs": [
        {
          "output_type": "display_data",
          "data": {
            "image/png": "[encoded data removed]",
            "text/plain": [
              "<Figure size 432x288 with 1 Axes>"
            ]
          },
          "metadata": {
            "tags": [],
            "needs_background": "light"
          }
        }
      ]
    },
    {
      "cell_type": "code",
      "metadata": {
        "colab": {
          "base_uri": "https://localhost:8080/"
        },
        "id": "Flq2f_dbsUpb",
        "outputId": "d8c40853-721f-4e06-846b-d39a23233b2b"
      },
      "source": [
        "avg=data.groupby('release_year').mean()['runtime']\r\n",
        "\r\n",
        "print(avg)"
      ],
      "execution_count": null,
      "outputs": [
        {
          "output_type": "stream",
          "text": [
            "release_year\n",
            "1960    130.000000\n",
            "1961    132.500000\n",
            "1962    141.285714\n",
            "1963    153.500000\n",
            "1964    122.428571\n",
            "1965    167.600000\n",
            "1966    132.200000\n",
            "1967    118.384615\n",
            "1968    130.777778\n",
            "1969    127.500000\n",
            "1970    121.454545\n",
            "1971    112.615385\n",
            "1972    113.000000\n",
            "1973    111.916667\n",
            "1974    122.000000\n",
            "1975    119.333333\n",
            "1976    118.333333\n",
            "1977    108.789474\n",
            "1978    122.882353\n",
            "1979    115.437500\n",
            "1980    113.304348\n",
            "1981    105.133333\n",
            "1982    112.653846\n",
            "1983    107.677419\n",
            "1984    108.619048\n",
            "1985    104.658537\n",
            "1986    105.125000\n",
            "1987    103.304348\n",
            "1988    104.543860\n",
            "1989    106.705882\n",
            "1990    108.207547\n",
            "1991    109.720000\n",
            "1992    112.830189\n",
            "1993    111.236111\n",
            "1994    109.274194\n",
            "1995    111.543210\n",
            "1996    109.639535\n",
            "1997    114.722222\n",
            "1998    111.271739\n",
            "1999    109.043103\n",
            "2000    109.169811\n",
            "2001    109.008264\n",
            "2002    106.976378\n",
            "2003    107.966942\n",
            "2004    106.904762\n",
            "2005    109.717791\n",
            "2006    108.189349\n",
            "2007    107.830303\n",
            "2008    108.161677\n",
            "2009    107.000000\n",
            "2010    106.702247\n",
            "2011    106.170854\n",
            "2012    107.196203\n",
            "2013    109.138889\n",
            "2014    109.296970\n",
            "2015    110.868750\n",
            "Name: runtime, dtype: float64\n"
          ],
          "name": "stdout"
        }
      ]
    },
    {
      "cell_type": "markdown",
      "metadata": {
        "id": "t-RxIBxjse_X"
      },
      "source": [
        "As you can see the runtime of the year 2006 is 108.189349 hrs"
      ]
    }
  ]
}